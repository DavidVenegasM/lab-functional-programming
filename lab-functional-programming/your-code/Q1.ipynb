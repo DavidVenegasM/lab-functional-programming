{
 "cells": [
  {
   "cell_type": "markdown",
   "metadata": {},
   "source": [
    "In the cell below, create a Python function that wraps your previous solution for the Bag of Words lab.\n",
    "\n",
    "Requirements:\n",
    "\n",
    "1. Your function should accept the following parameters:\n",
    "    * `docs` [REQUIRED] - array of document paths.\n",
    "    * `stop_words` [OPTIONAL] - array of stop words. The default value is an empty array.\n",
    "\n",
    "1. Your function should return a Python object that contains the following:\n",
    "    * `bag_of_words` - array of strings of normalized unique words in the corpus.\n",
    "    * `term_freq` - array of the term-frequency vectors."
   ]
  },
  {
   "cell_type": "code",
   "execution_count": 52,
   "metadata": {},
   "outputs": [],
   "source": [
    "# Import required libraries\n",
    "import os\n",
    "import re\n",
    "\n",
    "# Define function\n",
    "def get_bow_from_docs(docs, stop_words=[]):\n",
    "    \n",
    "    # In the function, first define the variables you will use such as `corpus`, `bag_of_words`, and `term_freq`.\n",
    "    bag_of_words = []\n",
    "    corpus = []\n",
    "    term_freq = []\n",
    "    \n",
    "    \n",
    "    \"\"\"\n",
    "    Loop `docs` and read the content of each doc into a string in `corpus`.\n",
    "    Remember to convert the doc content to lowercases and remove punctuation.\n",
    "    \"\"\"\n",
    "    for document in docs:\n",
    "        with open(document,\"r\") as readf:\n",
    "            lines = readf.readlines()\n",
    "            line_string = \"\"\n",
    "            for line in lines:\n",
    "                line_string = line_string + line + \" \"\n",
    "            line_string = line_string.rstrip(\" \\n\")\n",
    "            corpus.append(line_string)\n",
    "    \n",
    "    \n",
    "    \"\"\"\n",
    "    Loop `corpus`. Append the terms in each doc into the `bag_of_words` array. The terms in `bag_of_words` \n",
    "    should be unique which means before adding each term you need to check if it's already added to the array.\n",
    "    In addition, check if each term is in the `stop_words` array. Only append the term to `bag_of_words`\n",
    "    if it is not a stop word.\n",
    "    \"\"\"\n",
    "    string = \"\"\n",
    "    for i in range(0,len(corpus)):\n",
    "        corpus[i] = ''.join(e for e in corpus[i] if ( e.isalnum() or e.isspace() ) ).lower()\n",
    "    \n",
    "    for content in corpus:\n",
    "        string = content.split(\" \");\n",
    "        for each_string in string:\n",
    "            if each_string not in bag_of_words and each_string not in stop_words:\n",
    "                bag_of_words.append(each_string)\n",
    "                \n",
    "    \n",
    "    \n",
    "    \n",
    "    \"\"\"\n",
    "    Loop `corpus` again. For each doc string, count the number of occurrences of each term in `bag_of_words`. \n",
    "    Create an array for each doc's term frequency and append it to `term_freq`.\n",
    "    \"\"\"\n",
    "    for content in corpus:\n",
    "        term_freq.append([])\n",
    "        splitted_str = content.split(\" \")\n",
    "        for items in bag_of_words:\n",
    "            term_freq[len(term_freq)-1].append(splitted_str.count(items)) \n",
    "    \n",
    "    \n",
    "    # Now return your output as an object\n",
    "    return {\n",
    "        \"bag_of_words\": bag_of_words,\n",
    "        \"term_freq\": term_freq\n",
    "    }\n",
    "    "
   ]
  },
  {
   "cell_type": "markdown",
   "metadata": {},
   "source": [
    "Test your function without stop words. You should see the output like below:\n",
    "\n",
    "```{'bag_of_words': ['ironhack', 'is', 'cool', 'i', 'love', 'am', 'a', 'student', 'at'], 'term_freq': [[1, 1, 1, 0, 0, 0, 0, 0, 0], [1, 0, 0, 1, 1, 0, 0, 0, 0], [1, 0, 0, 1, 0, 1, 1, 1, 1]]}```"
   ]
  },
  {
   "cell_type": "code",
   "execution_count": 53,
   "metadata": {},
   "outputs": [
    {
     "name": "stdout",
     "output_type": "stream",
     "text": [
      "{'bag_of_words': ['ironhack', 'is', 'cool', 'i', 'love', 'am', 'a', 'student', 'at'], 'term_freq': [[1, 1, 1, 0, 0, 0, 0, 0, 0], [1, 0, 0, 1, 1, 0, 0, 0, 0], [1, 0, 0, 1, 0, 1, 1, 1, 1]]}\n"
     ]
    }
   ],
   "source": [
    "# Define doc paths array\n",
    "docs = ['doc1.txt', 'doc2.txt', 'doc3.txt']\n",
    "\n",
    "# Obtain BoW from your function\n",
    "bow = get_bow_from_docs(docs)\n",
    "\n",
    "# Print BoW\n",
    "print(bow)"
   ]
  },
  {
   "cell_type": "markdown",
   "metadata": {},
   "source": [
    "If your attempt above is successful, nice work done!\n",
    "\n",
    "Now test your function again with the stop words. In the previous lab we defined the stop words in a large array. In this lab, we'll import the stop words from Scikit-Learn."
   ]
  },
  {
   "cell_type": "code",
   "execution_count": 45,
   "metadata": {},
   "outputs": [
    {
     "name": "stdout",
     "output_type": "stream",
     "text": [
      "frozenset({'own', 'a', 'all', 'therefore', 'each', 'elsewhere', 'without', 'amongst', 'thus', 'above', 'couldnt', 'also', 'becoming', 'could', 'ourselves', 'your', 'whither', 'see', 'whole', 'other', 'still', 'ours', 'several', 'neither', 'hundred', 'whereafter', 'why', 'during', 'itself', 'afterwards', 'myself', 'inc', 'together', 'get', 'go', 'show', 'under', 'describe', 'else', 'something', 'were', 'me', 'this', 'perhaps', 'alone', 'less', 'beside', 'amoungst', 'become', 'anyhow', 'yet', 'further', 'next', 'since', 'after', 'former', 'un', 'found', 'by', 'while', 'already', 'would', 'amount', 'sometime', 'always', 'co', 'please', 'keep', 'three', 'then', 'front', 'no', 'their', 'fire', 'being', 'many', 'into', 'eg', 'ever', 'part', 'sometimes', 'whereby', 'somewhere', 'fifty', 'in', 'whom', 'system', 'when', 'somehow', 'whereupon', 'hereupon', 'bottom', 'con', 'whereas', 'there', 'because', 'cannot', 'any', 'both', 'ten', 'whose', 'put', 'himself', 'thereby', 'least', 'so', 'full', 'thin', 'over', 'from', 'us', 'should', 'beyond', 'towards', 'will', 'every', 'everyone', 'sixty', 'for', 'or', 'thereafter', 'within', 'if', 'nothing', 'made', 'call', 'give', 'now', 'whatever', 'cry', 'are', 'noone', 'much', 'wherein', 'below', 'its', 'my', 'almost', 'such', 'thence', 'toward', 'nevertheless', 'she', 'done', 'until', 'enough', 'her', 'across', 'may', 'as', 'through', 'thick', 'along', 'hasnt', 'not', 'none', 'indeed', 'only', 'what', 'two', 'we', 'you', 'empty', 'others', 'yours', 'either', 'five', 'again', 'everywhere', 'his', 'whenever', 'due', 'most', 'de', 'to', 'him', 'side', 'beforehand', 'except', 'am', 'these', 'four', 'hence', 'name', 'becomes', 'therein', 'some', 'per', 'first', 'cant', 'an', 'ie', 'mostly', 'of', 'was', 'namely', 'must', 'out', 'although', 'latterly', 'had', 'take', 'nobody', 'well', 'yourself', 'nor', 'even', 'same', 'fifteen', 'mill', 'he', 'thru', 'is', 'with', 'seem', 'another', 'have', 're', 'between', 'eleven', 'few', 'hereafter', 'anyway', 'often', 'serious', 'top', 'herein', 'herself', 'besides', 'onto', 'among', 'our', 'bill', 'hers', 'be', 'throughout', 'been', 'twelve', 'very', 'which', 'move', 'once', 'one', 'seeming', 'six', 'those', 'do', 'about', 'against', 'everything', 'themselves', 'who', 'down', 'formerly', 'might', 'too', 'latter', 'via', 'meanwhile', 'ltd', 'but', 'whoever', 'can', 'nowhere', 'detail', 'never', 'it', 'though', 'up', 'has', 'anyone', 'mine', 'rather', 'moreover', 'behind', 'forty', 'last', 'at', 'however', 'find', 'around', 'hereby', 'fill', 'them', 'became', 'nine', 'twenty', 'anything', 'back', 'third', 'whether', 'someone', 'than', 'etc', 'the', 'seems', 'on', 'more', 'that', 'interest', 'wherever', 'i', 'thereupon', 'upon', 'off', 'where', 'anywhere', 'and', 'here', 'yourselves', 'eight', 'whence', 'seemed', 'otherwise', 'how', 'before', 'they', 'sincere'})\n"
     ]
    }
   ],
   "source": [
    "from sklearn.feature_extraction import _stop_words\n",
    "print( _stop_words.ENGLISH_STOP_WORDS)"
   ]
  },
  {
   "cell_type": "markdown",
   "metadata": {},
   "source": [
    "You should have seen a large list of words that looks like:\n",
    "\n",
    "```frozenset({'across', 'mine', 'cannot', ...})```\n",
    "\n",
    "`frozenset` is a type of Python object that is immutable. In this lab you can use it just like an array without conversion."
   ]
  },
  {
   "cell_type": "markdown",
   "metadata": {},
   "source": [
    "Next, test your function with supplying `stop_words.ENGLISH_STOP_WORDS` as the second parameter."
   ]
  },
  {
   "cell_type": "code",
   "execution_count": 54,
   "metadata": {},
   "outputs": [
    {
     "name": "stdout",
     "output_type": "stream",
     "text": [
      "{'bag_of_words': ['ironhack', 'cool', 'love', 'student'], 'term_freq': [[1, 1, 0, 0], [1, 0, 1, 0], [1, 0, 0, 1]]}\n"
     ]
    }
   ],
   "source": [
    "bow = get_bow_from_docs(docs, _stop_words.ENGLISH_STOP_WORDS)\n",
    "\n",
    "print(bow)"
   ]
  },
  {
   "cell_type": "markdown",
   "metadata": {},
   "source": [
    "You should have seen:\n",
    "\n",
    "```{'bag_of_words': ['ironhack', 'cool', 'love', 'student'], 'term_freq': [[1, 1, 0, 0], [1, 0, 1, 0], [1, 0, 0, 1]]}```"
   ]
  },
  {
   "cell_type": "code",
   "execution_count": null,
   "metadata": {},
   "outputs": [],
   "source": []
  }
 ],
 "metadata": {
  "kernelspec": {
   "display_name": "Python 3",
   "language": "python",
   "name": "python3"
  },
  "language_info": {
   "codemirror_mode": {
    "name": "ipython",
    "version": 3
   },
   "file_extension": ".py",
   "mimetype": "text/x-python",
   "name": "python",
   "nbconvert_exporter": "python",
   "pygments_lexer": "ipython3",
   "version": "3.8.8"
  }
 },
 "nbformat": 4,
 "nbformat_minor": 4
}
